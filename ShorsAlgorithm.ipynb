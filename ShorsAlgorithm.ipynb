{
 "cells": [
  {
   "attachments": {},
   "cell_type": "markdown",
   "metadata": {},
   "source": [
    "# Shor's Algorithm"
   ]
  },
  {
   "cell_type": "code",
   "execution_count": 61,
   "metadata": {},
   "outputs": [],
   "source": [
    "import math\n",
    "import numpy as np\n",
    "import random"
   ]
  },
  {
   "cell_type": "code",
   "execution_count": 62,
   "metadata": {},
   "outputs": [],
   "source": [
    "def period(a,N):\n",
    "    r = 1\n",
    "    t = a\n",
    "    while t != 1:\n",
    "        t *= a\n",
    "        t %= N\n",
    "        r += 1\n",
    "    return r"
   ]
  },
  {
   "cell_type": "code",
   "execution_count": 63,
   "metadata": {},
   "outputs": [],
   "source": [
    "def shors(N):\n",
    "    a = random.randint(2,N)\n",
    "    random_number_gcd = math.gcd(a,N)\n",
    "    if random_number_gcd != 1:\n",
    "        p = random_number_gcd\n",
    "        q = N//random_number_gcd\n",
    "    elif random_number_gcd == 1:\n",
    "        r = period(a,N)\n",
    "        if r%2 !=0:\n",
    "            raise ValueError(\"Run again for another value of 'a'\")\n",
    "        elif r%2 == 0:\n",
    "            p = math.gcd(a**int(r/2)+1, N)\n",
    "            q = math.gcd(a**int(r/2)-1, N)\n",
    "    return p, q\n",
    "            "
   ]
  },
  {
   "cell_type": "code",
   "execution_count": 64,
   "metadata": {},
   "outputs": [
    {
     "data": {
      "text/plain": [
       "(233, 557)"
      ]
     },
     "execution_count": 64,
     "metadata": {},
     "output_type": "execute_result"
    }
   ],
   "source": [
    "shors(129781)"
   ]
  },
  {
   "cell_type": "code",
   "execution_count": 65,
   "metadata": {},
   "outputs": [
    {
     "data": {
      "text/plain": [
       "(2027, 1231)"
      ]
     },
     "execution_count": 65,
     "metadata": {},
     "output_type": "execute_result"
    }
   ],
   "source": [
    "shors(2495237)"
   ]
  },
  {
   "attachments": {},
   "cell_type": "markdown",
   "metadata": {},
   "source": [
    "e)"
   ]
  },
  {
   "cell_type": "code",
   "execution_count": 66,
   "metadata": {},
   "outputs": [],
   "source": [
    "import math\n",
    "import numpy as np\n",
    "import random\n",
    "import time"
   ]
  },
  {
   "cell_type": "code",
   "execution_count": 67,
   "metadata": {},
   "outputs": [],
   "source": [
    "def shors_with_time(N):\n",
    "\n",
    "    start_time = time.time()\n",
    "\n",
    "    a = random.randint(2,N)\n",
    "    random_number_gcd = math.gcd(a,N)\n",
    "\n",
    "    gcd_time = time.time() - start_time\n",
    "\n",
    "    if random_number_gcd != 1:\n",
    "        p = random_number_gcd\n",
    "        q = N//random_number_gcd\n",
    "\n",
    "    elif random_number_gcd == 1:\n",
    "\n",
    "        start_time = time.time()\n",
    "        r = period(a,N)\n",
    "        period_time = time.time() - start_time\n",
    "\n",
    "        if r%2 !=0:\n",
    "            raise ValueError(\"Run again for another value of 'a'\")\n",
    "        \n",
    "        elif r%2 == 0:\n",
    "            start_time = time.time()\n",
    "            p = math.gcd(a**int(r/2)+1, N)\n",
    "            p_time = time.time()-start_time\n",
    "\n",
    "            start_time = time.time()\n",
    "            q = math.gcd(a**int(r/2)-1, N)\n",
    "            q_time = time.time()-start_time\n",
    "\n",
    "    print(\"Time for GCD: \", gcd_time)\n",
    "    print(\"Time for calculating period: \", period_time)\n",
    "    print(\"Time for calculating p: \", p_time)\n",
    "    print(\"Time for calculating q: \", q_time)\n",
    "\n",
    "    return p, q"
   ]
  },
  {
   "cell_type": "code",
   "execution_count": 68,
   "metadata": {},
   "outputs": [
    {
     "name": "stdout",
     "output_type": "stream",
     "text": [
      "Time for GCD:  0.0\n",
      "Time for calculating period:  0.012964248657226562\n",
      "Time for calculating p:  0.003989696502685547\n",
      "Time for calculating q:  0.00299072265625\n"
     ]
    },
    {
     "data": {
      "text/plain": [
       "(233, 557)"
      ]
     },
     "execution_count": 68,
     "metadata": {},
     "output_type": "execute_result"
    }
   ],
   "source": [
    "shors_with_time(129781)"
   ]
  },
  {
   "cell_type": "code",
   "execution_count": 70,
   "metadata": {},
   "outputs": [
    {
     "name": "stdout",
     "output_type": "stream",
     "text": [
      "Time for GCD:  0.0\n",
      "Time for calculating period:  0.42885804176330566\n",
      "Time for calculating p:  2.118363380432129\n",
      "Time for calculating q:  2.1647281646728516\n"
     ]
    },
    {
     "data": {
      "text/plain": [
       "(1231, 2027)"
      ]
     },
     "execution_count": 70,
     "metadata": {},
     "output_type": "execute_result"
    }
   ],
   "source": [
    "shors_with_time(2495237)"
   ]
  },
  {
   "attachments": {},
   "cell_type": "markdown",
   "metadata": {},
   "source": [
    "Since the times taken to calculate the factors p and q is higher than the time taken for the other steps, this is the 'bottleneck' of the algorithm. "
   ]
  },
  {
   "attachments": {},
   "cell_type": "markdown",
   "metadata": {},
   "source": [
    "$ U = (\\mathbb{I} \\cdot \\cos (\\alpha t)+i Z \\cdot \\sin (\\alpha t)) (\\mathbb{I} \\cdot \\cos (\\beta t)+i X \\cdot \\sin (\\beta t)) $"
   ]
  },
  {
   "attachments": {},
   "cell_type": "markdown",
   "metadata": {},
   "source": [
    "$U = \\cos (\\alpha t) \\cos (\\beta t) \\mathbb{I} + i \\sin (\\alpha t)\\cos (\\beta t) Z + i \\sin (\\beta t) \\cos (\\alpha t) X - i \\sin (\\alpha t) \\sin (\\beta t) Y$"
   ]
  }
 ],
 "metadata": {
  "kernelspec": {
   "display_name": "Python 3",
   "language": "python",
   "name": "python3"
  },
  "language_info": {
   "codemirror_mode": {
    "name": "ipython",
    "version": 3
   },
   "file_extension": ".py",
   "mimetype": "text/x-python",
   "name": "python",
   "nbconvert_exporter": "python",
   "pygments_lexer": "ipython3",
   "version": "3.10.2"
  },
  "orig_nbformat": 4
 },
 "nbformat": 4,
 "nbformat_minor": 2
}
