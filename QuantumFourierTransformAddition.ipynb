{
 "cells": [
  {
   "attachments": {},
   "cell_type": "markdown",
   "metadata": {},
   "source": [
    "# Addition by Quantum Fourier Transform"
   ]
  },
  {
   "cell_type": "code",
   "execution_count": 2,
   "metadata": {},
   "outputs": [],
   "source": [
    "import qiskit as qi\n",
    "import numpy as np\n",
    "from qiskit import IBMQ, Aer\n",
    "from qiskit.providers.ibmq import least_busy\n",
    "from qiskit.visualization import plot_histogram\n",
    "from qiskit.circuit.library import QFT\n",
    "from qiskit.providers.aer import Aer\n"
   ]
  },
  {
   "cell_type": "code",
   "execution_count": 4,
   "metadata": {},
   "outputs": [],
   "source": [
    "def swap_registers(circuit, n):\n",
    "    for qubit in range(n//2):\n",
    "        circuit.swap(qubit, n-qubit-1)\n",
    "    return circuit\n"
   ]
  },
  {
   "cell_type": "code",
   "execution_count": 7,
   "metadata": {},
   "outputs": [],
   "source": [
    "def A(y, qubits):\n",
    "    qFTs = qi.QuantumCircuit(qubits)\n",
    "    qFTs = qFTs.compose(QFT(qubits, inverse = False), np.arange(0,qubits,1))\n",
    "    swap_registers(qFTs,3)\n",
    "    for k in range(qubits):\n",
    "        par = (2*np.pi*y)/(2**(k+1))\n",
    "        qFTs.p(par,k)\n",
    "        qFTs.barrier()\n",
    "    swap_registers(qFTs,3)\n",
    "    qFTs = qFTs.compose(QFT(qubits, inverse = True), np.arange(0,qubits,1))\n",
    "\n",
    "    return qFTs"
   ]
  },
  {
   "cell_type": "code",
   "execution_count": 12,
   "metadata": {},
   "outputs": [
    {
     "data": {
      "image/png": "[encoded data removed]",
      "text/plain": [
       "<Figure size 748.797x204.68 with 1 Axes>"
      ]
     },
     "execution_count": 12,
     "metadata": {},
     "output_type": "execute_result"
    }
   ],
   "source": [
    "qFTs = A(5,3)\n",
    "qFTs.draw('mpl')"
   ]
  },
  {
   "cell_type": "code",
   "execution_count": 19,
   "metadata": {},
   "outputs": [
    {
     "data": {
      "text/latex": [
       "$$ |101\\rangle$$"
      ],
      "text/plain": [
       "<IPython.core.display.Latex object>"
      ]
     },
     "execution_count": 19,
     "metadata": {},
     "output_type": "execute_result"
    }
   ],
   "source": [
    "state1 = qi.quantum_info.Statevector.from_label('000')\n",
    "state1 = state1.evolve(qFTs)\n",
    "state1.draw(output = 'latex')"
   ]
  },
  {
   "cell_type": "code",
   "execution_count": 18,
   "metadata": {},
   "outputs": [
    {
     "data": {
      "text/latex": [
       "$$ |010\\rangle$$"
      ],
      "text/plain": [
       "<IPython.core.display.Latex object>"
      ]
     },
     "execution_count": 18,
     "metadata": {},
     "output_type": "execute_result"
    }
   ],
   "source": [
    "state2 = qi.quantum_info.Statevector.from_label('101')\n",
    "state2 = state2.evolve(qFTs)\n",
    "state2.draw(output = 'latex')"
   ]
  }
 ],
 "metadata": {
  "kernelspec": {
   "display_name": "Python 3",
   "language": "python",
   "name": "python3"
  },
  "language_info": {
   "codemirror_mode": {
    "name": "ipython",
    "version": 3
   },
   "file_extension": ".py",
   "mimetype": "text/x-python",
   "name": "python",
   "nbconvert_exporter": "python",
   "pygments_lexer": "ipython3",
   "version": "3.10.2"
  },
  "orig_nbformat": 4
 },
 "nbformat": 4,
 "nbformat_minor": 2
}
