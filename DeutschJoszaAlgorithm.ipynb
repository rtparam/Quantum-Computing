{
 "cells": [
  {
   "attachments": {},
   "cell_type": "markdown",
   "metadata": {},
   "source": [
    "#  Deutsch-Josza Algorithm"
   ]
  },
  {
   "cell_type": "code",
   "execution_count": 1,
   "metadata": {},
   "outputs": [],
   "source": [
    "import qiskit as qi"
   ]
  },
  {
   "cell_type": "code",
   "execution_count": 4,
   "metadata": {},
   "outputs": [
    {
     "data": {
      "image/png": "[encoded data removed]",
      "text/plain": [
       "<Figure size 327.397x204.68 with 1 Axes>"
      ]
     },
     "execution_count": 4,
     "metadata": {},
     "output_type": "execute_result"
    }
   ],
   "source": [
    "circuit = qi.QuantumCircuit(3)\n",
    "circuit.h(0)\n",
    "circuit.h(2)\n",
    "circuit.cx(2,0)\n",
    "circuit.h(0)\n",
    "circuit.cz(2,1)\n",
    "circuit.h(2)\n",
    "circuit.draw('mpl')\n"
   ]
  },
  {
   "attachments": {},
   "cell_type": "markdown",
   "metadata": {},
   "source": [
    "Implement on an oracle $U_f$"
   ]
  },
  {
   "cell_type": "code",
   "execution_count": 6,
   "metadata": {},
   "outputs": [
    {
     "data": {
      "text/latex": [
       "$$ |101\\rangle$$"
      ],
      "text/plain": [
       "<IPython.core.display.Latex object>"
      ]
     },
     "execution_count": 6,
     "metadata": {},
     "output_type": "execute_result"
    }
   ],
   "source": [
    "state = qi.quantum_info.Statevector.from_label('001')\n",
    "state = state.evolve(circuit)\n",
    "state.draw(output = 'latex')"
   ]
  },
  {
   "attachments": {},
   "cell_type": "markdown",
   "metadata": {},
   "source": [
    "Function represented by the oracle is balanced or constant"
   ]
  },
  {
   "attachments": {},
   "cell_type": "markdown",
   "metadata": {},
   "source": [
    "The truth table for the function:\\\n",
    "Input states that output 0: 000, 011, 101, 110 \t\t  \n",
    "Input States that output 1: 001, 100, 010, 111\n",
    "\\\\ Therefore, the function is balanced\n",
    "      "
   ]
  },
  {
   "cell_type": "code",
   "execution_count": 7,
   "metadata": {},
   "outputs": [
    {
     "data": {
      "image/png": "[encoded data removed]",
      "text/plain": [
       "<Figure size 748.797x264.88 with 1 Axes>"
      ]
     },
     "execution_count": 7,
     "metadata": {},
     "output_type": "execute_result"
    }
   ],
   "source": [
    "dj = qi.QuantumCircuit(3,3)\n",
    "dj.h(0)\n",
    "dj.h(1)\n",
    "dj.h(2)\n",
    "dj.barrier()\n",
    "dj = dj.compose(circuit)\n",
    "dj.barrier(0)\n",
    "dj.h(0)\n",
    "dj.h(1)\n",
    "dj.barrier()\n",
    "dj.measure(0,0)\n",
    "dj.measure(1,1)\n",
    "dj.measure(2,2)\n",
    "dj.draw('mpl')"
   ]
  },
  {
   "attachments": {},
   "cell_type": "markdown",
   "metadata": {},
   "source": [
    "To check if it is balanced:"
   ]
  },
  {
   "cell_type": "code",
   "execution_count": 18,
   "metadata": {},
   "outputs": [
    {
     "name": "stdout",
     "output_type": "stream",
     "text": [
      "{'100': 503, '000': 521}\n"
     ]
    }
   ],
   "source": [
    "backend = qi.Aer.get_backend('qasm_simulator')\n",
    "run = qi.execute(dj, backend, shots = 1024)\n",
    "result = run.result()\n",
    "counts = result.get_counts(dj)\n",
    "print(counts)\n"
   ]
  },
  {
   "attachments": {},
   "cell_type": "markdown",
   "metadata": {},
   "source": [
    "Since the counts are approximately the same, and the function is balanced, the circuit implements the Deutsch-Josza algorithm"
   ]
  }
 ],
 "metadata": {
  "kernelspec": {
   "display_name": "Python 3",
   "language": "python",
   "name": "python3"
  },
  "language_info": {
   "codemirror_mode": {
    "name": "ipython",
    "version": 3
   },
   "file_extension": ".py",
   "mimetype": "text/x-python",
   "name": "python",
   "nbconvert_exporter": "python",
   "pygments_lexer": "ipython3",
   "version": "3.10.2"
  },
  "orig_nbformat": 4,
  "vscode": {
   "interpreter": {
    "hash": "a9cff5a362bc38ef45d817ae74b1af54d6a076e3d773891282bce078b815ba34"
   }
  }
 },
 "nbformat": 4,
 "nbformat_minor": 2
}
