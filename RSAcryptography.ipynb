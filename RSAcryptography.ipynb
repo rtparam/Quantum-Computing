{
 "cells": [
  {
   "attachments": {},
   "cell_type": "markdown",
   "metadata": {},
   "source": [
    "## Breaking RSA Cryptography"
   ]
  },
  {
   "attachments": {},
   "cell_type": "markdown",
   "metadata": {},
   "source": [
    "$\\{e , N\\} =\\{ 20579, 121130231\\}$. $ N = p \\cdot q$"
   ]
  },
  {
   "attachments": {},
   "cell_type": "markdown",
   "metadata": {},
   "source": [
    "We need to factor N since it is the product of two prime numbers $p$ and $q$, using Shor's algorithm. "
   ]
  },
  {
   "attachments": {},
   "cell_type": "markdown",
   "metadata": {},
   "source": [
    "Using Euclid's algorithm to compute the gcd: $K = gcd(a,N)$"
   ]
  },
  {
   "cell_type": "code",
   "execution_count": 65,
   "metadata": {},
   "outputs": [],
   "source": [
    "import numpy as np\n",
    "import math\n",
    "import random"
   ]
  },
  {
   "cell_type": "code",
   "execution_count": 66,
   "metadata": {},
   "outputs": [],
   "source": [
    "def gcd(a,b):\n",
    "    if a<b:\n",
    "        (a,b) = (b,a)\n",
    "    if (a%b) == 0:\n",
    "        return b\n",
    "    else:\n",
    "        return (gcd(b, a%b))"
   ]
  },
  {
   "cell_type": "code",
   "execution_count": 67,
   "metadata": {},
   "outputs": [
    {
     "name": "stdout",
     "output_type": "stream",
     "text": [
      "27754635\n",
      "1\n"
     ]
    }
   ],
   "source": [
    "N = 121130231\n",
    "\n",
    "np.random.seed(1)\n",
    "a = random.randint(2,N)\n",
    "\n",
    "print(a)\n",
    "print(gcd(a,N))"
   ]
  },
  {
   "attachments": {},
   "cell_type": "markdown",
   "metadata": {},
   "source": [
    "Finding the period:\n"
   ]
  },
  {
   "cell_type": "code",
   "execution_count": 68,
   "metadata": {},
   "outputs": [],
   "source": [
    "def period(a,N):\n",
    "    r = 1\n",
    "    t = a\n",
    "    while t != 1:\n",
    "        t *= a\n",
    "        t %= N\n",
    "        r += 1\n",
    "    return r"
   ]
  },
  {
   "cell_type": "code",
   "execution_count": 69,
   "metadata": {},
   "outputs": [
    {
     "name": "stdout",
     "output_type": "stream",
     "text": [
      "403690\n",
      "0\n"
     ]
    }
   ],
   "source": [
    "r = period(a,N)\n",
    "print(r)\n",
    "print(r%2)"
   ]
  },
  {
   "attachments": {},
   "cell_type": "markdown",
   "metadata": {},
   "source": [
    "r is even and:\n",
    "$\\\\ p  = gcd(a^{r/2}+1, N)\n",
    "\\\\ q = N/p$"
   ]
  },
  {
   "cell_type": "code",
   "execution_count": 70,
   "metadata": {},
   "outputs": [
    {
     "name": "stdout",
     "output_type": "stream",
     "text": [
      "15331 7901\n"
     ]
    }
   ],
   "source": [
    "p = math.gcd(a**int(r/2)+1, N)\n",
    "q = math.gcd(a**int(r/2)-1, N)\n",
    "print(p,q)"
   ]
  },
  {
   "cell_type": "code",
   "execution_count": 71,
   "metadata": {},
   "outputs": [
    {
     "data": {
      "text/plain": [
       "121130231"
      ]
     },
     "execution_count": 71,
     "metadata": {},
     "output_type": "execute_result"
    }
   ],
   "source": [
    "p*q"
   ]
  },
  {
   "attachments": {},
   "cell_type": "markdown",
   "metadata": {},
   "source": [
    "which is equal to $N$\n",
    "$\\\\ p = 15331 \\\\ q = 7901$"
   ]
  },
  {
   "attachments": {},
   "cell_type": "markdown",
   "metadata": {},
   "source": [
    "$bllhhay = (1 \\times 26^5)+ (11 \\times 26^4) + (7 \\times 26^3) + ( 7 \\times 26^2) + (0 \\times 26) + 24 = 17035900$"
   ]
  },
  {
   "attachments": {},
   "cell_type": "markdown",
   "metadata": {},
   "source": [
    "decrypt this by finding out the private key $d$. We know the prime factors of the public key from (a). Compute multiplicative inverse to get:\n",
    "$\\\\ d = 20579$"
   ]
  },
  {
   "attachments": {},
   "cell_type": "markdown",
   "metadata": {},
   "source": [
    "$ M = E^d mod N = 17035900^{20579} \\ mod 121130231$"
   ]
  },
  {
   "attachments": {},
   "cell_type": "markdown",
   "metadata": {},
   "source": [
    "$ M = 40574 $"
   ]
  },
  {
   "cell_type": "code",
   "execution_count": 72,
   "metadata": {},
   "outputs": [
    {
     "data": {
      "text/plain": [
       "0"
      ]
     },
     "metadata": {},
     "output_type": "display_data"
    },
    {
     "data": {
      "text/plain": [
       "0"
      ]
     },
     "metadata": {},
     "output_type": "display_data"
    },
    {
     "data": {
      "text/plain": [
       "2"
      ]
     },
     "metadata": {},
     "output_type": "display_data"
    },
    {
     "data": {
      "text/plain": [
       "8"
      ]
     },
     "metadata": {},
     "output_type": "display_data"
    },
    {
     "data": {
      "text/plain": [
       "0"
      ]
     },
     "metadata": {},
     "output_type": "display_data"
    },
    {
     "data": {
      "text/plain": [
       "14"
      ]
     },
     "metadata": {},
     "output_type": "display_data"
    }
   ],
   "source": [
    "xx = 40574\n",
    "\n",
    "x1 = int(xx//(26**5))\n",
    "factor_1 = x1 * (26**5)\n",
    "x2 = int((xx - factor_1)//(26**4))\n",
    "factor_2 = x2 * (26**4)\n",
    "x3 = int((xx - factor_1 - factor_2)//(26**3))\n",
    "factor_3 = x3 * (26**3)\n",
    "x4 = int((xx - factor_1 - factor_2 - factor_3)//(26**2))\n",
    "factor_4 = x4 * (26**2)\n",
    "x5 = int((xx - factor_1 - factor_2 - factor_3 - factor_4)//(26**1))\n",
    "factor_5 = x5 * (26)\n",
    "x6 = int(xx - factor_1 - factor_2 - factor_3 - factor_4 - factor_5)\n",
    "display(x1,x2,x3,x4,x5,x6)"
   ]
  },
  {
   "attachments": {},
   "cell_type": "markdown",
   "metadata": {},
   "source": [
    "deciphering with details given in the sheet, the message is : $aaciao$"
   ]
  }
 ],
 "metadata": {
  "kernelspec": {
   "display_name": "Python 3",
   "language": "python",
   "name": "python3"
  },
  "language_info": {
   "codemirror_mode": {
    "name": "ipython",
    "version": 3
   },
   "file_extension": ".py",
   "mimetype": "text/x-python",
   "name": "python",
   "nbconvert_exporter": "python",
   "pygments_lexer": "ipython3",
   "version": "3.10.2"
  },
  "orig_nbformat": 4
 },
 "nbformat": 4,
 "nbformat_minor": 2
}
